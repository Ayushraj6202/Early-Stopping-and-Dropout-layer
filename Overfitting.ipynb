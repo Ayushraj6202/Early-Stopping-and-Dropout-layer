{
  "nbformat": 4,
  "nbformat_minor": 0,
  "metadata": {
    "colab": {
      "provenance": [],
      "gpuType": "T4",
      "mount_file_id": "1uf3qgKPcXPhPQ2VIfKwvegPIPqV28eP5",
      "authorship_tag": "ABX9TyM/1stcIHZJrskp9W3aSpo1",
      "include_colab_link": true
    },
    "kernelspec": {
      "name": "python3",
      "display_name": "Python 3"
    },
    "language_info": {
      "name": "python"
    },
    "accelerator": "GPU"
  },
  "cells": [
    {
      "cell_type": "markdown",
      "metadata": {
        "id": "view-in-github",
        "colab_type": "text"
      },
      "source": [
        "<a href=\"https://colab.research.google.com/github/Ayushraj6202/Early-Stopping-and-Dropout-layer/blob/main/Overfitting.ipynb\" target=\"_parent\"><img src=\"https://colab.research.google.com/assets/colab-badge.svg\" alt=\"Open In Colab\"/></a>"
      ]
    },
    {
      "cell_type": "code",
      "execution_count": 1,
      "metadata": {
        "id": "Tov9t_QEgMDB"
      },
      "outputs": [],
      "source": [
        "import pandas as pd\n",
        "import numpy as np"
      ]
    },
    {
      "cell_type": "code",
      "source": [
        "import tensorflow\n",
        "from tensorflow import keras\n",
        "from keras.layers import Dense,Dropout"
      ],
      "metadata": {
        "id": "vQobduxugYVR"
      },
      "execution_count": 2,
      "outputs": []
    },
    {
      "cell_type": "code",
      "source": [
        "data=pd.read_csv(\"/content/drive/MyDrive/DL/2/diabetes.csv\")\n",
        "data.head()"
      ],
      "metadata": {
        "colab": {
          "base_uri": "https://localhost:8080/",
          "height": 206
        },
        "id": "xsz_EPZZgeVR",
        "outputId": "cc34eadf-da1e-4298-807e-d50a9b47932d"
      },
      "execution_count": 3,
      "outputs": [
        {
          "output_type": "execute_result",
          "data": {
            "text/plain": [
              "   Pregnancies  Glucose  BloodPressure  SkinThickness  Insulin   BMI  \\\n",
              "0            6      148             72             35        0  33.6   \n",
              "1            1       85             66             29        0  26.6   \n",
              "2            8      183             64              0        0  23.3   \n",
              "3            1       89             66             23       94  28.1   \n",
              "4            0      137             40             35      168  43.1   \n",
              "\n",
              "   DiabetesPedigreeFunction  Age  Outcome  \n",
              "0                     0.627   50        1  \n",
              "1                     0.351   31        0  \n",
              "2                     0.672   32        1  \n",
              "3                     0.167   21        0  \n",
              "4                     2.288   33        1  "
            ],
            "text/html": [
              "\n",
              "  <div id=\"df-bb96a84b-6821-436a-b808-0623be25498d\" class=\"colab-df-container\">\n",
              "    <div>\n",
              "<style scoped>\n",
              "    .dataframe tbody tr th:only-of-type {\n",
              "        vertical-align: middle;\n",
              "    }\n",
              "\n",
              "    .dataframe tbody tr th {\n",
              "        vertical-align: top;\n",
              "    }\n",
              "\n",
              "    .dataframe thead th {\n",
              "        text-align: right;\n",
              "    }\n",
              "</style>\n",
              "<table border=\"1\" class=\"dataframe\">\n",
              "  <thead>\n",
              "    <tr style=\"text-align: right;\">\n",
              "      <th></th>\n",
              "      <th>Pregnancies</th>\n",
              "      <th>Glucose</th>\n",
              "      <th>BloodPressure</th>\n",
              "      <th>SkinThickness</th>\n",
              "      <th>Insulin</th>\n",
              "      <th>BMI</th>\n",
              "      <th>DiabetesPedigreeFunction</th>\n",
              "      <th>Age</th>\n",
              "      <th>Outcome</th>\n",
              "    </tr>\n",
              "  </thead>\n",
              "  <tbody>\n",
              "    <tr>\n",
              "      <th>0</th>\n",
              "      <td>6</td>\n",
              "      <td>148</td>\n",
              "      <td>72</td>\n",
              "      <td>35</td>\n",
              "      <td>0</td>\n",
              "      <td>33.6</td>\n",
              "      <td>0.627</td>\n",
              "      <td>50</td>\n",
              "      <td>1</td>\n",
              "    </tr>\n",
              "    <tr>\n",
              "      <th>1</th>\n",
              "      <td>1</td>\n",
              "      <td>85</td>\n",
              "      <td>66</td>\n",
              "      <td>29</td>\n",
              "      <td>0</td>\n",
              "      <td>26.6</td>\n",
              "      <td>0.351</td>\n",
              "      <td>31</td>\n",
              "      <td>0</td>\n",
              "    </tr>\n",
              "    <tr>\n",
              "      <th>2</th>\n",
              "      <td>8</td>\n",
              "      <td>183</td>\n",
              "      <td>64</td>\n",
              "      <td>0</td>\n",
              "      <td>0</td>\n",
              "      <td>23.3</td>\n",
              "      <td>0.672</td>\n",
              "      <td>32</td>\n",
              "      <td>1</td>\n",
              "    </tr>\n",
              "    <tr>\n",
              "      <th>3</th>\n",
              "      <td>1</td>\n",
              "      <td>89</td>\n",
              "      <td>66</td>\n",
              "      <td>23</td>\n",
              "      <td>94</td>\n",
              "      <td>28.1</td>\n",
              "      <td>0.167</td>\n",
              "      <td>21</td>\n",
              "      <td>0</td>\n",
              "    </tr>\n",
              "    <tr>\n",
              "      <th>4</th>\n",
              "      <td>0</td>\n",
              "      <td>137</td>\n",
              "      <td>40</td>\n",
              "      <td>35</td>\n",
              "      <td>168</td>\n",
              "      <td>43.1</td>\n",
              "      <td>2.288</td>\n",
              "      <td>33</td>\n",
              "      <td>1</td>\n",
              "    </tr>\n",
              "  </tbody>\n",
              "</table>\n",
              "</div>\n",
              "    <div class=\"colab-df-buttons\">\n",
              "\n",
              "  <div class=\"colab-df-container\">\n",
              "    <button class=\"colab-df-convert\" onclick=\"convertToInteractive('df-bb96a84b-6821-436a-b808-0623be25498d')\"\n",
              "            title=\"Convert this dataframe to an interactive table.\"\n",
              "            style=\"display:none;\">\n",
              "\n",
              "  <svg xmlns=\"http://www.w3.org/2000/svg\" height=\"24px\" viewBox=\"0 -960 960 960\">\n",
              "    <path d=\"M120-120v-720h720v720H120Zm60-500h600v-160H180v160Zm220 220h160v-160H400v160Zm0 220h160v-160H400v160ZM180-400h160v-160H180v160Zm440 0h160v-160H620v160ZM180-180h160v-160H180v160Zm440 0h160v-160H620v160Z\"/>\n",
              "  </svg>\n",
              "    </button>\n",
              "\n",
              "  <style>\n",
              "    .colab-df-container {\n",
              "      display:flex;\n",
              "      gap: 12px;\n",
              "    }\n",
              "\n",
              "    .colab-df-convert {\n",
              "      background-color: #E8F0FE;\n",
              "      border: none;\n",
              "      border-radius: 50%;\n",
              "      cursor: pointer;\n",
              "      display: none;\n",
              "      fill: #1967D2;\n",
              "      height: 32px;\n",
              "      padding: 0 0 0 0;\n",
              "      width: 32px;\n",
              "    }\n",
              "\n",
              "    .colab-df-convert:hover {\n",
              "      background-color: #E2EBFA;\n",
              "      box-shadow: 0px 1px 2px rgba(60, 64, 67, 0.3), 0px 1px 3px 1px rgba(60, 64, 67, 0.15);\n",
              "      fill: #174EA6;\n",
              "    }\n",
              "\n",
              "    .colab-df-buttons div {\n",
              "      margin-bottom: 4px;\n",
              "    }\n",
              "\n",
              "    [theme=dark] .colab-df-convert {\n",
              "      background-color: #3B4455;\n",
              "      fill: #D2E3FC;\n",
              "    }\n",
              "\n",
              "    [theme=dark] .colab-df-convert:hover {\n",
              "      background-color: #434B5C;\n",
              "      box-shadow: 0px 1px 3px 1px rgba(0, 0, 0, 0.15);\n",
              "      filter: drop-shadow(0px 1px 2px rgba(0, 0, 0, 0.3));\n",
              "      fill: #FFFFFF;\n",
              "    }\n",
              "  </style>\n",
              "\n",
              "    <script>\n",
              "      const buttonEl =\n",
              "        document.querySelector('#df-bb96a84b-6821-436a-b808-0623be25498d button.colab-df-convert');\n",
              "      buttonEl.style.display =\n",
              "        google.colab.kernel.accessAllowed ? 'block' : 'none';\n",
              "\n",
              "      async function convertToInteractive(key) {\n",
              "        const element = document.querySelector('#df-bb96a84b-6821-436a-b808-0623be25498d');\n",
              "        const dataTable =\n",
              "          await google.colab.kernel.invokeFunction('convertToInteractive',\n",
              "                                                    [key], {});\n",
              "        if (!dataTable) return;\n",
              "\n",
              "        const docLinkHtml = 'Like what you see? Visit the ' +\n",
              "          '<a target=\"_blank\" href=https://colab.research.google.com/notebooks/data_table.ipynb>data table notebook</a>'\n",
              "          + ' to learn more about interactive tables.';\n",
              "        element.innerHTML = '';\n",
              "        dataTable['output_type'] = 'display_data';\n",
              "        await google.colab.output.renderOutput(dataTable, element);\n",
              "        const docLink = document.createElement('div');\n",
              "        docLink.innerHTML = docLinkHtml;\n",
              "        element.appendChild(docLink);\n",
              "      }\n",
              "    </script>\n",
              "  </div>\n",
              "\n",
              "\n",
              "<div id=\"df-93d25173-9f0c-4bb3-aeb4-b6a98ce98b9e\">\n",
              "  <button class=\"colab-df-quickchart\" onclick=\"quickchart('df-93d25173-9f0c-4bb3-aeb4-b6a98ce98b9e')\"\n",
              "            title=\"Suggest charts\"\n",
              "            style=\"display:none;\">\n",
              "\n",
              "<svg xmlns=\"http://www.w3.org/2000/svg\" height=\"24px\"viewBox=\"0 0 24 24\"\n",
              "     width=\"24px\">\n",
              "    <g>\n",
              "        <path d=\"M19 3H5c-1.1 0-2 .9-2 2v14c0 1.1.9 2 2 2h14c1.1 0 2-.9 2-2V5c0-1.1-.9-2-2-2zM9 17H7v-7h2v7zm4 0h-2V7h2v10zm4 0h-2v-4h2v4z\"/>\n",
              "    </g>\n",
              "</svg>\n",
              "  </button>\n",
              "\n",
              "<style>\n",
              "  .colab-df-quickchart {\n",
              "      --bg-color: #E8F0FE;\n",
              "      --fill-color: #1967D2;\n",
              "      --hover-bg-color: #E2EBFA;\n",
              "      --hover-fill-color: #174EA6;\n",
              "      --disabled-fill-color: #AAA;\n",
              "      --disabled-bg-color: #DDD;\n",
              "  }\n",
              "\n",
              "  [theme=dark] .colab-df-quickchart {\n",
              "      --bg-color: #3B4455;\n",
              "      --fill-color: #D2E3FC;\n",
              "      --hover-bg-color: #434B5C;\n",
              "      --hover-fill-color: #FFFFFF;\n",
              "      --disabled-bg-color: #3B4455;\n",
              "      --disabled-fill-color: #666;\n",
              "  }\n",
              "\n",
              "  .colab-df-quickchart {\n",
              "    background-color: var(--bg-color);\n",
              "    border: none;\n",
              "    border-radius: 50%;\n",
              "    cursor: pointer;\n",
              "    display: none;\n",
              "    fill: var(--fill-color);\n",
              "    height: 32px;\n",
              "    padding: 0;\n",
              "    width: 32px;\n",
              "  }\n",
              "\n",
              "  .colab-df-quickchart:hover {\n",
              "    background-color: var(--hover-bg-color);\n",
              "    box-shadow: 0 1px 2px rgba(60, 64, 67, 0.3), 0 1px 3px 1px rgba(60, 64, 67, 0.15);\n",
              "    fill: var(--button-hover-fill-color);\n",
              "  }\n",
              "\n",
              "  .colab-df-quickchart-complete:disabled,\n",
              "  .colab-df-quickchart-complete:disabled:hover {\n",
              "    background-color: var(--disabled-bg-color);\n",
              "    fill: var(--disabled-fill-color);\n",
              "    box-shadow: none;\n",
              "  }\n",
              "\n",
              "  .colab-df-spinner {\n",
              "    border: 2px solid var(--fill-color);\n",
              "    border-color: transparent;\n",
              "    border-bottom-color: var(--fill-color);\n",
              "    animation:\n",
              "      spin 1s steps(1) infinite;\n",
              "  }\n",
              "\n",
              "  @keyframes spin {\n",
              "    0% {\n",
              "      border-color: transparent;\n",
              "      border-bottom-color: var(--fill-color);\n",
              "      border-left-color: var(--fill-color);\n",
              "    }\n",
              "    20% {\n",
              "      border-color: transparent;\n",
              "      border-left-color: var(--fill-color);\n",
              "      border-top-color: var(--fill-color);\n",
              "    }\n",
              "    30% {\n",
              "      border-color: transparent;\n",
              "      border-left-color: var(--fill-color);\n",
              "      border-top-color: var(--fill-color);\n",
              "      border-right-color: var(--fill-color);\n",
              "    }\n",
              "    40% {\n",
              "      border-color: transparent;\n",
              "      border-right-color: var(--fill-color);\n",
              "      border-top-color: var(--fill-color);\n",
              "    }\n",
              "    60% {\n",
              "      border-color: transparent;\n",
              "      border-right-color: var(--fill-color);\n",
              "    }\n",
              "    80% {\n",
              "      border-color: transparent;\n",
              "      border-right-color: var(--fill-color);\n",
              "      border-bottom-color: var(--fill-color);\n",
              "    }\n",
              "    90% {\n",
              "      border-color: transparent;\n",
              "      border-bottom-color: var(--fill-color);\n",
              "    }\n",
              "  }\n",
              "</style>\n",
              "\n",
              "  <script>\n",
              "    async function quickchart(key) {\n",
              "      const quickchartButtonEl =\n",
              "        document.querySelector('#' + key + ' button');\n",
              "      quickchartButtonEl.disabled = true;  // To prevent multiple clicks.\n",
              "      quickchartButtonEl.classList.add('colab-df-spinner');\n",
              "      try {\n",
              "        const charts = await google.colab.kernel.invokeFunction(\n",
              "            'suggestCharts', [key], {});\n",
              "      } catch (error) {\n",
              "        console.error('Error during call to suggestCharts:', error);\n",
              "      }\n",
              "      quickchartButtonEl.classList.remove('colab-df-spinner');\n",
              "      quickchartButtonEl.classList.add('colab-df-quickchart-complete');\n",
              "    }\n",
              "    (() => {\n",
              "      let quickchartButtonEl =\n",
              "        document.querySelector('#df-93d25173-9f0c-4bb3-aeb4-b6a98ce98b9e button');\n",
              "      quickchartButtonEl.style.display =\n",
              "        google.colab.kernel.accessAllowed ? 'block' : 'none';\n",
              "    })();\n",
              "  </script>\n",
              "</div>\n",
              "\n",
              "    </div>\n",
              "  </div>\n"
            ],
            "application/vnd.google.colaboratory.intrinsic+json": {
              "type": "dataframe",
              "variable_name": "data",
              "summary": "{\n  \"name\": \"data\",\n  \"rows\": 768,\n  \"fields\": [\n    {\n      \"column\": \"Pregnancies\",\n      \"properties\": {\n        \"dtype\": \"number\",\n        \"std\": 3,\n        \"min\": 0,\n        \"max\": 17,\n        \"num_unique_values\": 17,\n        \"samples\": [\n          6,\n          1,\n          3\n        ],\n        \"semantic_type\": \"\",\n        \"description\": \"\"\n      }\n    },\n    {\n      \"column\": \"Glucose\",\n      \"properties\": {\n        \"dtype\": \"number\",\n        \"std\": 31,\n        \"min\": 0,\n        \"max\": 199,\n        \"num_unique_values\": 136,\n        \"samples\": [\n          151,\n          101,\n          112\n        ],\n        \"semantic_type\": \"\",\n        \"description\": \"\"\n      }\n    },\n    {\n      \"column\": \"BloodPressure\",\n      \"properties\": {\n        \"dtype\": \"number\",\n        \"std\": 19,\n        \"min\": 0,\n        \"max\": 122,\n        \"num_unique_values\": 47,\n        \"samples\": [\n          86,\n          46,\n          85\n        ],\n        \"semantic_type\": \"\",\n        \"description\": \"\"\n      }\n    },\n    {\n      \"column\": \"SkinThickness\",\n      \"properties\": {\n        \"dtype\": \"number\",\n        \"std\": 15,\n        \"min\": 0,\n        \"max\": 99,\n        \"num_unique_values\": 51,\n        \"samples\": [\n          7,\n          12,\n          48\n        ],\n        \"semantic_type\": \"\",\n        \"description\": \"\"\n      }\n    },\n    {\n      \"column\": \"Insulin\",\n      \"properties\": {\n        \"dtype\": \"number\",\n        \"std\": 115,\n        \"min\": 0,\n        \"max\": 846,\n        \"num_unique_values\": 186,\n        \"samples\": [\n          52,\n          41,\n          183\n        ],\n        \"semantic_type\": \"\",\n        \"description\": \"\"\n      }\n    },\n    {\n      \"column\": \"BMI\",\n      \"properties\": {\n        \"dtype\": \"number\",\n        \"std\": 7.884160320375446,\n        \"min\": 0.0,\n        \"max\": 67.1,\n        \"num_unique_values\": 248,\n        \"samples\": [\n          19.9,\n          31.0,\n          38.1\n        ],\n        \"semantic_type\": \"\",\n        \"description\": \"\"\n      }\n    },\n    {\n      \"column\": \"DiabetesPedigreeFunction\",\n      \"properties\": {\n        \"dtype\": \"number\",\n        \"std\": 0.3313285950127749,\n        \"min\": 0.078,\n        \"max\": 2.42,\n        \"num_unique_values\": 517,\n        \"samples\": [\n          1.731,\n          0.426,\n          0.138\n        ],\n        \"semantic_type\": \"\",\n        \"description\": \"\"\n      }\n    },\n    {\n      \"column\": \"Age\",\n      \"properties\": {\n        \"dtype\": \"number\",\n        \"std\": 11,\n        \"min\": 21,\n        \"max\": 81,\n        \"num_unique_values\": 52,\n        \"samples\": [\n          60,\n          47,\n          72\n        ],\n        \"semantic_type\": \"\",\n        \"description\": \"\"\n      }\n    },\n    {\n      \"column\": \"Outcome\",\n      \"properties\": {\n        \"dtype\": \"number\",\n        \"std\": 0,\n        \"min\": 0,\n        \"max\": 1,\n        \"num_unique_values\": 2,\n        \"samples\": [\n          0,\n          1\n        ],\n        \"semantic_type\": \"\",\n        \"description\": \"\"\n      }\n    }\n  ]\n}"
            }
          },
          "metadata": {},
          "execution_count": 3
        }
      ]
    },
    {
      "cell_type": "code",
      "source": [
        "data.corr()[\"Outcome\"]"
      ],
      "metadata": {
        "colab": {
          "base_uri": "https://localhost:8080/"
        },
        "id": "Xtihbp4ehJIU",
        "outputId": "9be78f62-47b1-4b2e-ad87-8a5238fa2edb"
      },
      "execution_count": 4,
      "outputs": [
        {
          "output_type": "execute_result",
          "data": {
            "text/plain": [
              "Pregnancies                 0.221898\n",
              "Glucose                     0.466581\n",
              "BloodPressure               0.065068\n",
              "SkinThickness               0.074752\n",
              "Insulin                     0.130548\n",
              "BMI                         0.292695\n",
              "DiabetesPedigreeFunction    0.173844\n",
              "Age                         0.238356\n",
              "Outcome                     1.000000\n",
              "Name: Outcome, dtype: float64"
            ]
          },
          "metadata": {},
          "execution_count": 4
        }
      ]
    },
    {
      "cell_type": "markdown",
      "source": [
        "as above we can see corelation of BloodPressure and SkinTHickness is very less, drop these column"
      ],
      "metadata": {
        "id": "_6P8bfQJhVDg"
      }
    },
    {
      "cell_type": "code",
      "source": [
        "data.drop(columns=[\"BloodPressure\",\"SkinThickness\"],axis=1,inplace=True)"
      ],
      "metadata": {
        "id": "WUya1yahhLPT"
      },
      "execution_count": 5,
      "outputs": []
    },
    {
      "cell_type": "code",
      "source": [
        "data.head()"
      ],
      "metadata": {
        "colab": {
          "base_uri": "https://localhost:8080/",
          "height": 206
        },
        "id": "UmocgjgThoG9",
        "outputId": "3c154197-1ac4-42cd-aef0-6969513b61a4"
      },
      "execution_count": 6,
      "outputs": [
        {
          "output_type": "execute_result",
          "data": {
            "text/plain": [
              "   Pregnancies  Glucose  Insulin   BMI  DiabetesPedigreeFunction  Age  Outcome\n",
              "0            6      148        0  33.6                     0.627   50        1\n",
              "1            1       85        0  26.6                     0.351   31        0\n",
              "2            8      183        0  23.3                     0.672   32        1\n",
              "3            1       89       94  28.1                     0.167   21        0\n",
              "4            0      137      168  43.1                     2.288   33        1"
            ],
            "text/html": [
              "\n",
              "  <div id=\"df-1fadaff1-d155-4b8f-9fab-c9f0c21837aa\" class=\"colab-df-container\">\n",
              "    <div>\n",
              "<style scoped>\n",
              "    .dataframe tbody tr th:only-of-type {\n",
              "        vertical-align: middle;\n",
              "    }\n",
              "\n",
              "    .dataframe tbody tr th {\n",
              "        vertical-align: top;\n",
              "    }\n",
              "\n",
              "    .dataframe thead th {\n",
              "        text-align: right;\n",
              "    }\n",
              "</style>\n",
              "<table border=\"1\" class=\"dataframe\">\n",
              "  <thead>\n",
              "    <tr style=\"text-align: right;\">\n",
              "      <th></th>\n",
              "      <th>Pregnancies</th>\n",
              "      <th>Glucose</th>\n",
              "      <th>Insulin</th>\n",
              "      <th>BMI</th>\n",
              "      <th>DiabetesPedigreeFunction</th>\n",
              "      <th>Age</th>\n",
              "      <th>Outcome</th>\n",
              "    </tr>\n",
              "  </thead>\n",
              "  <tbody>\n",
              "    <tr>\n",
              "      <th>0</th>\n",
              "      <td>6</td>\n",
              "      <td>148</td>\n",
              "      <td>0</td>\n",
              "      <td>33.6</td>\n",
              "      <td>0.627</td>\n",
              "      <td>50</td>\n",
              "      <td>1</td>\n",
              "    </tr>\n",
              "    <tr>\n",
              "      <th>1</th>\n",
              "      <td>1</td>\n",
              "      <td>85</td>\n",
              "      <td>0</td>\n",
              "      <td>26.6</td>\n",
              "      <td>0.351</td>\n",
              "      <td>31</td>\n",
              "      <td>0</td>\n",
              "    </tr>\n",
              "    <tr>\n",
              "      <th>2</th>\n",
              "      <td>8</td>\n",
              "      <td>183</td>\n",
              "      <td>0</td>\n",
              "      <td>23.3</td>\n",
              "      <td>0.672</td>\n",
              "      <td>32</td>\n",
              "      <td>1</td>\n",
              "    </tr>\n",
              "    <tr>\n",
              "      <th>3</th>\n",
              "      <td>1</td>\n",
              "      <td>89</td>\n",
              "      <td>94</td>\n",
              "      <td>28.1</td>\n",
              "      <td>0.167</td>\n",
              "      <td>21</td>\n",
              "      <td>0</td>\n",
              "    </tr>\n",
              "    <tr>\n",
              "      <th>4</th>\n",
              "      <td>0</td>\n",
              "      <td>137</td>\n",
              "      <td>168</td>\n",
              "      <td>43.1</td>\n",
              "      <td>2.288</td>\n",
              "      <td>33</td>\n",
              "      <td>1</td>\n",
              "    </tr>\n",
              "  </tbody>\n",
              "</table>\n",
              "</div>\n",
              "    <div class=\"colab-df-buttons\">\n",
              "\n",
              "  <div class=\"colab-df-container\">\n",
              "    <button class=\"colab-df-convert\" onclick=\"convertToInteractive('df-1fadaff1-d155-4b8f-9fab-c9f0c21837aa')\"\n",
              "            title=\"Convert this dataframe to an interactive table.\"\n",
              "            style=\"display:none;\">\n",
              "\n",
              "  <svg xmlns=\"http://www.w3.org/2000/svg\" height=\"24px\" viewBox=\"0 -960 960 960\">\n",
              "    <path d=\"M120-120v-720h720v720H120Zm60-500h600v-160H180v160Zm220 220h160v-160H400v160Zm0 220h160v-160H400v160ZM180-400h160v-160H180v160Zm440 0h160v-160H620v160ZM180-180h160v-160H180v160Zm440 0h160v-160H620v160Z\"/>\n",
              "  </svg>\n",
              "    </button>\n",
              "\n",
              "  <style>\n",
              "    .colab-df-container {\n",
              "      display:flex;\n",
              "      gap: 12px;\n",
              "    }\n",
              "\n",
              "    .colab-df-convert {\n",
              "      background-color: #E8F0FE;\n",
              "      border: none;\n",
              "      border-radius: 50%;\n",
              "      cursor: pointer;\n",
              "      display: none;\n",
              "      fill: #1967D2;\n",
              "      height: 32px;\n",
              "      padding: 0 0 0 0;\n",
              "      width: 32px;\n",
              "    }\n",
              "\n",
              "    .colab-df-convert:hover {\n",
              "      background-color: #E2EBFA;\n",
              "      box-shadow: 0px 1px 2px rgba(60, 64, 67, 0.3), 0px 1px 3px 1px rgba(60, 64, 67, 0.15);\n",
              "      fill: #174EA6;\n",
              "    }\n",
              "\n",
              "    .colab-df-buttons div {\n",
              "      margin-bottom: 4px;\n",
              "    }\n",
              "\n",
              "    [theme=dark] .colab-df-convert {\n",
              "      background-color: #3B4455;\n",
              "      fill: #D2E3FC;\n",
              "    }\n",
              "\n",
              "    [theme=dark] .colab-df-convert:hover {\n",
              "      background-color: #434B5C;\n",
              "      box-shadow: 0px 1px 3px 1px rgba(0, 0, 0, 0.15);\n",
              "      filter: drop-shadow(0px 1px 2px rgba(0, 0, 0, 0.3));\n",
              "      fill: #FFFFFF;\n",
              "    }\n",
              "  </style>\n",
              "\n",
              "    <script>\n",
              "      const buttonEl =\n",
              "        document.querySelector('#df-1fadaff1-d155-4b8f-9fab-c9f0c21837aa button.colab-df-convert');\n",
              "      buttonEl.style.display =\n",
              "        google.colab.kernel.accessAllowed ? 'block' : 'none';\n",
              "\n",
              "      async function convertToInteractive(key) {\n",
              "        const element = document.querySelector('#df-1fadaff1-d155-4b8f-9fab-c9f0c21837aa');\n",
              "        const dataTable =\n",
              "          await google.colab.kernel.invokeFunction('convertToInteractive',\n",
              "                                                    [key], {});\n",
              "        if (!dataTable) return;\n",
              "\n",
              "        const docLinkHtml = 'Like what you see? Visit the ' +\n",
              "          '<a target=\"_blank\" href=https://colab.research.google.com/notebooks/data_table.ipynb>data table notebook</a>'\n",
              "          + ' to learn more about interactive tables.';\n",
              "        element.innerHTML = '';\n",
              "        dataTable['output_type'] = 'display_data';\n",
              "        await google.colab.output.renderOutput(dataTable, element);\n",
              "        const docLink = document.createElement('div');\n",
              "        docLink.innerHTML = docLinkHtml;\n",
              "        element.appendChild(docLink);\n",
              "      }\n",
              "    </script>\n",
              "  </div>\n",
              "\n",
              "\n",
              "<div id=\"df-62b1d093-9c66-45e7-9091-27b995185fcc\">\n",
              "  <button class=\"colab-df-quickchart\" onclick=\"quickchart('df-62b1d093-9c66-45e7-9091-27b995185fcc')\"\n",
              "            title=\"Suggest charts\"\n",
              "            style=\"display:none;\">\n",
              "\n",
              "<svg xmlns=\"http://www.w3.org/2000/svg\" height=\"24px\"viewBox=\"0 0 24 24\"\n",
              "     width=\"24px\">\n",
              "    <g>\n",
              "        <path d=\"M19 3H5c-1.1 0-2 .9-2 2v14c0 1.1.9 2 2 2h14c1.1 0 2-.9 2-2V5c0-1.1-.9-2-2-2zM9 17H7v-7h2v7zm4 0h-2V7h2v10zm4 0h-2v-4h2v4z\"/>\n",
              "    </g>\n",
              "</svg>\n",
              "  </button>\n",
              "\n",
              "<style>\n",
              "  .colab-df-quickchart {\n",
              "      --bg-color: #E8F0FE;\n",
              "      --fill-color: #1967D2;\n",
              "      --hover-bg-color: #E2EBFA;\n",
              "      --hover-fill-color: #174EA6;\n",
              "      --disabled-fill-color: #AAA;\n",
              "      --disabled-bg-color: #DDD;\n",
              "  }\n",
              "\n",
              "  [theme=dark] .colab-df-quickchart {\n",
              "      --bg-color: #3B4455;\n",
              "      --fill-color: #D2E3FC;\n",
              "      --hover-bg-color: #434B5C;\n",
              "      --hover-fill-color: #FFFFFF;\n",
              "      --disabled-bg-color: #3B4455;\n",
              "      --disabled-fill-color: #666;\n",
              "  }\n",
              "\n",
              "  .colab-df-quickchart {\n",
              "    background-color: var(--bg-color);\n",
              "    border: none;\n",
              "    border-radius: 50%;\n",
              "    cursor: pointer;\n",
              "    display: none;\n",
              "    fill: var(--fill-color);\n",
              "    height: 32px;\n",
              "    padding: 0;\n",
              "    width: 32px;\n",
              "  }\n",
              "\n",
              "  .colab-df-quickchart:hover {\n",
              "    background-color: var(--hover-bg-color);\n",
              "    box-shadow: 0 1px 2px rgba(60, 64, 67, 0.3), 0 1px 3px 1px rgba(60, 64, 67, 0.15);\n",
              "    fill: var(--button-hover-fill-color);\n",
              "  }\n",
              "\n",
              "  .colab-df-quickchart-complete:disabled,\n",
              "  .colab-df-quickchart-complete:disabled:hover {\n",
              "    background-color: var(--disabled-bg-color);\n",
              "    fill: var(--disabled-fill-color);\n",
              "    box-shadow: none;\n",
              "  }\n",
              "\n",
              "  .colab-df-spinner {\n",
              "    border: 2px solid var(--fill-color);\n",
              "    border-color: transparent;\n",
              "    border-bottom-color: var(--fill-color);\n",
              "    animation:\n",
              "      spin 1s steps(1) infinite;\n",
              "  }\n",
              "\n",
              "  @keyframes spin {\n",
              "    0% {\n",
              "      border-color: transparent;\n",
              "      border-bottom-color: var(--fill-color);\n",
              "      border-left-color: var(--fill-color);\n",
              "    }\n",
              "    20% {\n",
              "      border-color: transparent;\n",
              "      border-left-color: var(--fill-color);\n",
              "      border-top-color: var(--fill-color);\n",
              "    }\n",
              "    30% {\n",
              "      border-color: transparent;\n",
              "      border-left-color: var(--fill-color);\n",
              "      border-top-color: var(--fill-color);\n",
              "      border-right-color: var(--fill-color);\n",
              "    }\n",
              "    40% {\n",
              "      border-color: transparent;\n",
              "      border-right-color: var(--fill-color);\n",
              "      border-top-color: var(--fill-color);\n",
              "    }\n",
              "    60% {\n",
              "      border-color: transparent;\n",
              "      border-right-color: var(--fill-color);\n",
              "    }\n",
              "    80% {\n",
              "      border-color: transparent;\n",
              "      border-right-color: var(--fill-color);\n",
              "      border-bottom-color: var(--fill-color);\n",
              "    }\n",
              "    90% {\n",
              "      border-color: transparent;\n",
              "      border-bottom-color: var(--fill-color);\n",
              "    }\n",
              "  }\n",
              "</style>\n",
              "\n",
              "  <script>\n",
              "    async function quickchart(key) {\n",
              "      const quickchartButtonEl =\n",
              "        document.querySelector('#' + key + ' button');\n",
              "      quickchartButtonEl.disabled = true;  // To prevent multiple clicks.\n",
              "      quickchartButtonEl.classList.add('colab-df-spinner');\n",
              "      try {\n",
              "        const charts = await google.colab.kernel.invokeFunction(\n",
              "            'suggestCharts', [key], {});\n",
              "      } catch (error) {\n",
              "        console.error('Error during call to suggestCharts:', error);\n",
              "      }\n",
              "      quickchartButtonEl.classList.remove('colab-df-spinner');\n",
              "      quickchartButtonEl.classList.add('colab-df-quickchart-complete');\n",
              "    }\n",
              "    (() => {\n",
              "      let quickchartButtonEl =\n",
              "        document.querySelector('#df-62b1d093-9c66-45e7-9091-27b995185fcc button');\n",
              "      quickchartButtonEl.style.display =\n",
              "        google.colab.kernel.accessAllowed ? 'block' : 'none';\n",
              "    })();\n",
              "  </script>\n",
              "</div>\n",
              "\n",
              "    </div>\n",
              "  </div>\n"
            ],
            "application/vnd.google.colaboratory.intrinsic+json": {
              "type": "dataframe",
              "variable_name": "data",
              "summary": "{\n  \"name\": \"data\",\n  \"rows\": 768,\n  \"fields\": [\n    {\n      \"column\": \"Pregnancies\",\n      \"properties\": {\n        \"dtype\": \"number\",\n        \"std\": 3,\n        \"min\": 0,\n        \"max\": 17,\n        \"num_unique_values\": 17,\n        \"samples\": [\n          6,\n          1,\n          3\n        ],\n        \"semantic_type\": \"\",\n        \"description\": \"\"\n      }\n    },\n    {\n      \"column\": \"Glucose\",\n      \"properties\": {\n        \"dtype\": \"number\",\n        \"std\": 31,\n        \"min\": 0,\n        \"max\": 199,\n        \"num_unique_values\": 136,\n        \"samples\": [\n          151,\n          101,\n          112\n        ],\n        \"semantic_type\": \"\",\n        \"description\": \"\"\n      }\n    },\n    {\n      \"column\": \"Insulin\",\n      \"properties\": {\n        \"dtype\": \"number\",\n        \"std\": 115,\n        \"min\": 0,\n        \"max\": 846,\n        \"num_unique_values\": 186,\n        \"samples\": [\n          52,\n          41,\n          183\n        ],\n        \"semantic_type\": \"\",\n        \"description\": \"\"\n      }\n    },\n    {\n      \"column\": \"BMI\",\n      \"properties\": {\n        \"dtype\": \"number\",\n        \"std\": 7.884160320375446,\n        \"min\": 0.0,\n        \"max\": 67.1,\n        \"num_unique_values\": 248,\n        \"samples\": [\n          19.9,\n          31.0,\n          38.1\n        ],\n        \"semantic_type\": \"\",\n        \"description\": \"\"\n      }\n    },\n    {\n      \"column\": \"DiabetesPedigreeFunction\",\n      \"properties\": {\n        \"dtype\": \"number\",\n        \"std\": 0.3313285950127749,\n        \"min\": 0.078,\n        \"max\": 2.42,\n        \"num_unique_values\": 517,\n        \"samples\": [\n          1.731,\n          0.426,\n          0.138\n        ],\n        \"semantic_type\": \"\",\n        \"description\": \"\"\n      }\n    },\n    {\n      \"column\": \"Age\",\n      \"properties\": {\n        \"dtype\": \"number\",\n        \"std\": 11,\n        \"min\": 21,\n        \"max\": 81,\n        \"num_unique_values\": 52,\n        \"samples\": [\n          60,\n          47,\n          72\n        ],\n        \"semantic_type\": \"\",\n        \"description\": \"\"\n      }\n    },\n    {\n      \"column\": \"Outcome\",\n      \"properties\": {\n        \"dtype\": \"number\",\n        \"std\": 0,\n        \"min\": 0,\n        \"max\": 1,\n        \"num_unique_values\": 2,\n        \"samples\": [\n          0,\n          1\n        ],\n        \"semantic_type\": \"\",\n        \"description\": \"\"\n      }\n    }\n  ]\n}"
            }
          },
          "metadata": {},
          "execution_count": 6
        }
      ]
    },
    {
      "cell_type": "code",
      "source": [
        "import matplotlib.pyplot as plt\n"
      ],
      "metadata": {
        "id": "m3hSFyvXhpgQ"
      },
      "execution_count": 7,
      "outputs": []
    },
    {
      "cell_type": "code",
      "source": [
        "data[\"Outcome\"].value_counts().plot(kind='bar',color=['Red','Blue'])"
      ],
      "metadata": {
        "colab": {
          "base_uri": "https://localhost:8080/",
          "height": 461
        },
        "id": "ePKP-1iWhwYH",
        "outputId": "b2d4c6bb-f878-443c-9cad-0b5337c6832a"
      },
      "execution_count": 8,
      "outputs": [
        {
          "output_type": "execute_result",
          "data": {
            "text/plain": [
              "<Axes: xlabel='Outcome'>"
            ]
          },
          "metadata": {},
          "execution_count": 8
        },
        {
          "output_type": "display_data",
          "data": {
            "text/plain": [
              "<Figure size 640x480 with 1 Axes>"
            ],
            "image/png": "[encoded data removed]"
          },
          "metadata": {}
        }
      ]
    },
    {
      "cell_type": "code",
      "source": [
        "plt.scatter(data[\"Glucose\"],data[\"Outcome\"])"
      ],
      "metadata": {
        "colab": {
          "base_uri": "https://localhost:8080/",
          "height": 447
        },
        "id": "xfNqS5inh5ml",
        "outputId": "a26371c1-3935-4de9-a515-0dfa6666d81f"
      },
      "execution_count": 9,
      "outputs": [
        {
          "output_type": "execute_result",
          "data": {
            "text/plain": [
              "<matplotlib.collections.PathCollection at 0x7c3b6fec88b0>"
            ]
          },
          "metadata": {},
          "execution_count": 9
        },
        {
          "output_type": "display_data",
          "data": {
            "text/plain": [
              "<Figure size 640x480 with 1 Axes>"
            ],
            "image/png": "[encoded data removed]"
          },
          "metadata": {}
        }
      ]
    },
    {
      "cell_type": "code",
      "source": [
        "X=data.iloc[:,:-1]\n",
        "Y=data[\"Outcome\"]"
      ],
      "metadata": {
        "id": "g4OKWUiZjEFf"
      },
      "execution_count": 10,
      "outputs": []
    },
    {
      "cell_type": "code",
      "source": [
        "X.shape"
      ],
      "metadata": {
        "colab": {
          "base_uri": "https://localhost:8080/"
        },
        "id": "ROw25NqIjLXz",
        "outputId": "10162915-2596-4336-e04d-23f792a9166b"
      },
      "execution_count": 11,
      "outputs": [
        {
          "output_type": "execute_result",
          "data": {
            "text/plain": [
              "(768, 6)"
            ]
          },
          "metadata": {},
          "execution_count": 11
        }
      ]
    },
    {
      "cell_type": "markdown",
      "source": [
        "##Early stopping and Droupout"
      ],
      "metadata": {
        "id": "uwgA4VUMQeas"
      }
    },
    {
      "cell_type": "code",
      "source": [
        "from tensorflow.keras import Sequential"
      ],
      "metadata": {
        "id": "SPE9sD85iVJb"
      },
      "execution_count": 12,
      "outputs": []
    },
    {
      "cell_type": "code",
      "source": [
        "model=Sequential()\n",
        "model.add(Dense(128,activation=\"relu\",input_dim=X.shape[1]))\n",
        "model.add(Dense(64,activation=\"relu\"))\n",
        "model.add(Dense(32,activation=\"relu\"))\n",
        "model.add(Dense(1,activation=\"sigmoid\"))\n",
        "model.summary()"
      ],
      "metadata": {
        "colab": {
          "base_uri": "https://localhost:8080/"
        },
        "id": "7_2RkCKFiz0H",
        "outputId": "22d41a8f-2129-445b-a826-98a0e3c2c814"
      },
      "execution_count": 13,
      "outputs": [
        {
          "output_type": "stream",
          "name": "stdout",
          "text": [
            "Model: \"sequential\"\n",
            "_________________________________________________________________\n",
            " Layer (type)                Output Shape              Param #   \n",
            "=================================================================\n",
            " dense (Dense)               (None, 128)               896       \n",
            "                                                                 \n",
            " dense_1 (Dense)             (None, 64)                8256      \n",
            "                                                                 \n",
            " dense_2 (Dense)             (None, 32)                2080      \n",
            "                                                                 \n",
            " dense_3 (Dense)             (None, 1)                 33        \n",
            "                                                                 \n",
            "=================================================================\n",
            "Total params: 11265 (44.00 KB)\n",
            "Trainable params: 11265 (44.00 KB)\n",
            "Non-trainable params: 0 (0.00 Byte)\n",
            "_________________________________________________________________\n"
          ]
        }
      ]
    },
    {
      "cell_type": "code",
      "source": [
        "from tensorflow.keras.callbacks import EarlyStopping\n",
        "callback = EarlyStopping(\n",
        "    monitor=\"val_loss\",\n",
        "    min_delta=0.001,\n",
        "    patience=10,\n",
        "    verbose=1,\n",
        "    mode=\"auto\",\n",
        "    baseline=None,\n",
        "    restore_best_weights=False\n",
        ")"
      ],
      "metadata": {
        "id": "K6gKPvZonwYo"
      },
      "execution_count": 14,
      "outputs": []
    },
    {
      "cell_type": "code",
      "source": [
        "model.compile(loss=\"binary_crossentropy\",optimizer=\"Adam\",metrics=[\"accuracy\"])\n",
        "history=model.fit(X,Y,epochs=500,validation_split=0.2,batch_size=1,callbacks=callback)"
      ],
      "metadata": {
        "colab": {
          "base_uri": "https://localhost:8080/"
        },
        "id": "hCRjt8Ecjd6C",
        "outputId": "198e83d4-30b2-46e6-9a4c-addac167ddbd"
      },
      "execution_count": 15,
      "outputs": [
        {
          "output_type": "stream",
          "name": "stdout",
          "text": [
            "Epoch 1/500\n",
            "614/614 [==============================] - 5s 4ms/step - loss: 1.0728 - accuracy: 0.5603 - val_loss: 0.7577 - val_accuracy: 0.6364\n",
            "Epoch 2/500\n",
            "614/614 [==============================] - 2s 4ms/step - loss: 0.7567 - accuracy: 0.5945 - val_loss: 0.6924 - val_accuracy: 0.6234\n",
            "Epoch 3/500\n",
            "614/614 [==============================] - 3s 4ms/step - loss: 0.6852 - accuracy: 0.6287 - val_loss: 0.7175 - val_accuracy: 0.5519\n",
            "Epoch 4/500\n",
            "614/614 [==============================] - 3s 5ms/step - loss: 0.6620 - accuracy: 0.6433 - val_loss: 0.6940 - val_accuracy: 0.5390\n",
            "Epoch 5/500\n",
            "614/614 [==============================] - 3s 5ms/step - loss: 0.6495 - accuracy: 0.6710 - val_loss: 0.6554 - val_accuracy: 0.6883\n",
            "Epoch 6/500\n",
            "614/614 [==============================] - 2s 3ms/step - loss: 0.6347 - accuracy: 0.6808 - val_loss: 0.6699 - val_accuracy: 0.6494\n",
            "Epoch 7/500\n",
            "614/614 [==============================] - 2s 3ms/step - loss: 0.6330 - accuracy: 0.6629 - val_loss: 0.6594 - val_accuracy: 0.6169\n",
            "Epoch 8/500\n",
            "614/614 [==============================] - 2s 3ms/step - loss: 0.6574 - accuracy: 0.6417 - val_loss: 0.6518 - val_accuracy: 0.6429\n",
            "Epoch 9/500\n",
            "614/614 [==============================] - 3s 4ms/step - loss: 0.6297 - accuracy: 0.6531 - val_loss: 0.6435 - val_accuracy: 0.6429\n",
            "Epoch 10/500\n",
            "614/614 [==============================] - 3s 4ms/step - loss: 0.6251 - accuracy: 0.6596 - val_loss: 0.6406 - val_accuracy: 0.6429\n",
            "Epoch 11/500\n",
            "614/614 [==============================] - 2s 3ms/step - loss: 0.6280 - accuracy: 0.6580 - val_loss: 0.6346 - val_accuracy: 0.6494\n",
            "Epoch 12/500\n",
            "614/614 [==============================] - 3s 5ms/step - loss: 0.6387 - accuracy: 0.6629 - val_loss: 0.6374 - val_accuracy: 0.6494\n",
            "Epoch 13/500\n",
            "614/614 [==============================] - 4s 6ms/step - loss: 0.6285 - accuracy: 0.6515 - val_loss: 0.6318 - val_accuracy: 0.6558\n",
            "Epoch 14/500\n",
            "614/614 [==============================] - 5s 9ms/step - loss: 0.6320 - accuracy: 0.6694 - val_loss: 0.6327 - val_accuracy: 0.6623\n",
            "Epoch 15/500\n",
            "614/614 [==============================] - 3s 5ms/step - loss: 0.6168 - accuracy: 0.6792 - val_loss: 0.6310 - val_accuracy: 0.6558\n",
            "Epoch 16/500\n",
            "614/614 [==============================] - 2s 3ms/step - loss: 0.6122 - accuracy: 0.6694 - val_loss: 0.6424 - val_accuracy: 0.6558\n",
            "Epoch 17/500\n",
            "614/614 [==============================] - 2s 3ms/step - loss: 0.6146 - accuracy: 0.6726 - val_loss: 0.6294 - val_accuracy: 0.6558\n",
            "Epoch 18/500\n",
            "614/614 [==============================] - 2s 4ms/step - loss: 0.6139 - accuracy: 0.6726 - val_loss: 0.6377 - val_accuracy: 0.6558\n",
            "Epoch 19/500\n",
            "614/614 [==============================] - 3s 5ms/step - loss: 0.6119 - accuracy: 0.6775 - val_loss: 0.6235 - val_accuracy: 0.6623\n",
            "Epoch 20/500\n",
            "614/614 [==============================] - 2s 4ms/step - loss: 0.6173 - accuracy: 0.6743 - val_loss: 0.6605 - val_accuracy: 0.6753\n",
            "Epoch 21/500\n",
            "614/614 [==============================] - 2s 3ms/step - loss: 0.6104 - accuracy: 0.6710 - val_loss: 0.6224 - val_accuracy: 0.6753\n",
            "Epoch 22/500\n",
            "614/614 [==============================] - 2s 3ms/step - loss: 0.6033 - accuracy: 0.6808 - val_loss: 0.6524 - val_accuracy: 0.6623\n",
            "Epoch 23/500\n",
            "614/614 [==============================] - 2s 3ms/step - loss: 0.6019 - accuracy: 0.6678 - val_loss: 0.6326 - val_accuracy: 0.7013\n",
            "Epoch 24/500\n",
            "614/614 [==============================] - 2s 3ms/step - loss: 0.5871 - accuracy: 0.6922 - val_loss: 0.6274 - val_accuracy: 0.6494\n",
            "Epoch 25/500\n",
            "614/614 [==============================] - 2s 4ms/step - loss: 0.5941 - accuracy: 0.6792 - val_loss: 0.6158 - val_accuracy: 0.6818\n",
            "Epoch 26/500\n",
            "614/614 [==============================] - 3s 5ms/step - loss: 0.5757 - accuracy: 0.6971 - val_loss: 0.6156 - val_accuracy: 0.6948\n",
            "Epoch 27/500\n",
            "614/614 [==============================] - 2s 3ms/step - loss: 0.5721 - accuracy: 0.6922 - val_loss: 0.6494 - val_accuracy: 0.6558\n",
            "Epoch 28/500\n",
            "614/614 [==============================] - 2s 3ms/step - loss: 0.5646 - accuracy: 0.6971 - val_loss: 0.6290 - val_accuracy: 0.6753\n",
            "Epoch 29/500\n",
            "614/614 [==============================] - 2s 3ms/step - loss: 0.5743 - accuracy: 0.7166 - val_loss: 0.6286 - val_accuracy: 0.6818\n",
            "Epoch 30/500\n",
            "614/614 [==============================] - 2s 3ms/step - loss: 0.5669 - accuracy: 0.6889 - val_loss: 0.6674 - val_accuracy: 0.6753\n",
            "Epoch 31/500\n",
            "614/614 [==============================] - 2s 4ms/step - loss: 0.5701 - accuracy: 0.7134 - val_loss: 0.6193 - val_accuracy: 0.6753\n",
            "Epoch 32/500\n",
            "614/614 [==============================] - 3s 5ms/step - loss: 0.5621 - accuracy: 0.6906 - val_loss: 0.6001 - val_accuracy: 0.6883\n",
            "Epoch 33/500\n",
            "614/614 [==============================] - 2s 3ms/step - loss: 0.5570 - accuracy: 0.7085 - val_loss: 0.6138 - val_accuracy: 0.7078\n",
            "Epoch 34/500\n",
            "614/614 [==============================] - 2s 3ms/step - loss: 0.5658 - accuracy: 0.7117 - val_loss: 0.6034 - val_accuracy: 0.6753\n",
            "Epoch 35/500\n",
            "614/614 [==============================] - 2s 4ms/step - loss: 0.5548 - accuracy: 0.6987 - val_loss: 0.6213 - val_accuracy: 0.6623\n",
            "Epoch 36/500\n",
            "614/614 [==============================] - 2s 4ms/step - loss: 0.5540 - accuracy: 0.7101 - val_loss: 0.6125 - val_accuracy: 0.6753\n",
            "Epoch 37/500\n",
            "614/614 [==============================] - 3s 4ms/step - loss: 0.5523 - accuracy: 0.7068 - val_loss: 0.6251 - val_accuracy: 0.6753\n",
            "Epoch 38/500\n",
            "614/614 [==============================] - 3s 5ms/step - loss: 0.5488 - accuracy: 0.7134 - val_loss: 0.5886 - val_accuracy: 0.7143\n",
            "Epoch 39/500\n",
            "614/614 [==============================] - 2s 3ms/step - loss: 0.5428 - accuracy: 0.7199 - val_loss: 0.5868 - val_accuracy: 0.7143\n",
            "Epoch 40/500\n",
            "614/614 [==============================] - 2s 3ms/step - loss: 0.5336 - accuracy: 0.7296 - val_loss: 0.6054 - val_accuracy: 0.6948\n",
            "Epoch 41/500\n",
            "614/614 [==============================] - 2s 3ms/step - loss: 0.5536 - accuracy: 0.7199 - val_loss: 0.6265 - val_accuracy: 0.6753\n",
            "Epoch 42/500\n",
            "614/614 [==============================] - 2s 3ms/step - loss: 0.5329 - accuracy: 0.7101 - val_loss: 0.6998 - val_accuracy: 0.5909\n",
            "Epoch 43/500\n",
            "614/614 [==============================] - 2s 4ms/step - loss: 0.5393 - accuracy: 0.7182 - val_loss: 0.5911 - val_accuracy: 0.7338\n",
            "Epoch 44/500\n",
            "614/614 [==============================] - 3s 5ms/step - loss: 0.5434 - accuracy: 0.7166 - val_loss: 0.6173 - val_accuracy: 0.6558\n",
            "Epoch 45/500\n",
            "614/614 [==============================] - 2s 3ms/step - loss: 0.5270 - accuracy: 0.7313 - val_loss: 0.6069 - val_accuracy: 0.7208\n",
            "Epoch 46/500\n",
            "614/614 [==============================] - 2s 3ms/step - loss: 0.5378 - accuracy: 0.7150 - val_loss: 0.6014 - val_accuracy: 0.6429\n",
            "Epoch 47/500\n",
            "614/614 [==============================] - 2s 3ms/step - loss: 0.5317 - accuracy: 0.7313 - val_loss: 0.5810 - val_accuracy: 0.7208\n",
            "Epoch 48/500\n",
            "614/614 [==============================] - 2s 3ms/step - loss: 0.5243 - accuracy: 0.7329 - val_loss: 0.5967 - val_accuracy: 0.7273\n",
            "Epoch 49/500\n",
            "614/614 [==============================] - 2s 4ms/step - loss: 0.5160 - accuracy: 0.7313 - val_loss: 0.6201 - val_accuracy: 0.6753\n",
            "Epoch 50/500\n",
            "614/614 [==============================] - 4s 6ms/step - loss: 0.5260 - accuracy: 0.7199 - val_loss: 0.6061 - val_accuracy: 0.7013\n",
            "Epoch 51/500\n",
            "614/614 [==============================] - 2s 4ms/step - loss: 0.5170 - accuracy: 0.7313 - val_loss: 0.6106 - val_accuracy: 0.6883\n",
            "Epoch 52/500\n",
            "614/614 [==============================] - 2s 3ms/step - loss: 0.5035 - accuracy: 0.7394 - val_loss: 0.7456 - val_accuracy: 0.6364\n",
            "Epoch 53/500\n",
            "614/614 [==============================] - 2s 3ms/step - loss: 0.5127 - accuracy: 0.7410 - val_loss: 0.6459 - val_accuracy: 0.6558\n",
            "Epoch 54/500\n",
            "614/614 [==============================] - 2s 3ms/step - loss: 0.5055 - accuracy: 0.7508 - val_loss: 0.6329 - val_accuracy: 0.7273\n",
            "Epoch 55/500\n",
            "614/614 [==============================] - 3s 4ms/step - loss: 0.5102 - accuracy: 0.7557 - val_loss: 0.5805 - val_accuracy: 0.7273\n",
            "Epoch 56/500\n",
            "614/614 [==============================] - 3s 5ms/step - loss: 0.5170 - accuracy: 0.7362 - val_loss: 0.6223 - val_accuracy: 0.6753\n",
            "Epoch 57/500\n",
            "614/614 [==============================] - 2s 3ms/step - loss: 0.4889 - accuracy: 0.7427 - val_loss: 0.7901 - val_accuracy: 0.5649\n",
            "Epoch 57: early stopping\n"
          ]
        }
      ]
    },
    {
      "cell_type": "code",
      "source": [
        "plt.plot(history.history[\"loss\"])\n",
        "plt.plot(history.history[\"val_loss\"])"
      ],
      "metadata": {
        "colab": {
          "base_uri": "https://localhost:8080/",
          "height": 451
        },
        "id": "kTv0ZLAbj1iL",
        "outputId": "ccf436f4-6330-4902-c10c-09e698efb3dd"
      },
      "execution_count": 16,
      "outputs": [
        {
          "output_type": "execute_result",
          "data": {
            "text/plain": [
              "[<matplotlib.lines.Line2D at 0x7c3b600eab30>]"
            ]
          },
          "metadata": {},
          "execution_count": 16
        },
        {
          "output_type": "display_data",
          "data": {
            "text/plain": [
              "<Figure size 640x480 with 1 Axes>"
            ],
            "image/png": "[encoded data removed]"
          },
          "metadata": {}
        }
      ]
    },
    {
      "cell_type": "code",
      "source": [
        "plt.plot(history.history[\"accuracy\"])\n",
        "plt.plot(history.history[\"val_accuracy\"])"
      ],
      "metadata": {
        "colab": {
          "base_uri": "https://localhost:8080/",
          "height": 447
        },
        "id": "94YPwArSlUZN",
        "outputId": "78702e63-7907-4aac-c046-dbbc6e16e5fe"
      },
      "execution_count": 17,
      "outputs": [
        {
          "output_type": "execute_result",
          "data": {
            "text/plain": [
              "[<matplotlib.lines.Line2D at 0x7c3b4c506ad0>]"
            ]
          },
          "metadata": {},
          "execution_count": 17
        },
        {
          "output_type": "display_data",
          "data": {
            "text/plain": [
              "<Figure size 640x480 with 1 Axes>"
            ],
            "image/png": "[encoded data removed]"
          },
          "metadata": {}
        }
      ]
    },
    {
      "cell_type": "code",
      "source": [
        "model=Sequential()\n",
        "model.add(Dense(32,activation=\"relu\",input_dim=X.shape[1]))\n",
        "model.add(Dropout(0.2))\n",
        "model.add(Dense(16,activation=\"relu\"))\n",
        "model.add(Dropout(0.2))\n",
        "model.add(Dense(1,activation=\"sigmoid\"))\n",
        "model.summary()"
      ],
      "metadata": {
        "colab": {
          "base_uri": "https://localhost:8080/"
        },
        "id": "VsyGYUkJlgQg",
        "outputId": "0a179815-c135-43b7-8cf0-1ee0c07b359f"
      },
      "execution_count": 18,
      "outputs": [
        {
          "output_type": "stream",
          "name": "stdout",
          "text": [
            "Model: \"sequential_1\"\n",
            "_________________________________________________________________\n",
            " Layer (type)                Output Shape              Param #   \n",
            "=================================================================\n",
            " dense_4 (Dense)             (None, 32)                224       \n",
            "                                                                 \n",
            " dropout (Dropout)           (None, 32)                0         \n",
            "                                                                 \n",
            " dense_5 (Dense)             (None, 16)                528       \n",
            "                                                                 \n",
            " dropout_1 (Dropout)         (None, 16)                0         \n",
            "                                                                 \n",
            " dense_6 (Dense)             (None, 1)                 17        \n",
            "                                                                 \n",
            "=================================================================\n",
            "Total params: 769 (3.00 KB)\n",
            "Trainable params: 769 (3.00 KB)\n",
            "Non-trainable params: 0 (0.00 Byte)\n",
            "_________________________________________________________________\n"
          ]
        }
      ]
    },
    {
      "cell_type": "code",
      "source": [
        "model.compile(loss=\"binary_crossentropy\",optimizer=\"Adam\",metrics=[\"accuracy\"])\n",
        "history=model.fit(X,Y,epochs=500,validation_split=0.2,batch_size=1,callbacks=callback)"
      ],
      "metadata": {
        "colab": {
          "base_uri": "https://localhost:8080/"
        },
        "id": "Fgg_XpoUqgfF",
        "outputId": "f043c0e1-a5eb-4990-9c0a-43f7b1825c49"
      },
      "execution_count": 19,
      "outputs": [
        {
          "output_type": "stream",
          "name": "stdout",
          "text": [
            "Epoch 1/500\n",
            "614/614 [==============================] - 4s 4ms/step - loss: 5.8860 - accuracy: 0.5147 - val_loss: 0.9724 - val_accuracy: 0.5779\n",
            "Epoch 2/500\n",
            "614/614 [==============================] - 2s 3ms/step - loss: 2.2688 - accuracy: 0.5472 - val_loss: 0.8573 - val_accuracy: 0.5065\n",
            "Epoch 3/500\n",
            "614/614 [==============================] - 2s 3ms/step - loss: 1.1124 - accuracy: 0.5993 - val_loss: 0.6646 - val_accuracy: 0.6364\n",
            "Epoch 4/500\n",
            "614/614 [==============================] - 3s 5ms/step - loss: 0.8210 - accuracy: 0.6124 - val_loss: 0.6583 - val_accuracy: 0.6429\n",
            "Epoch 5/500\n",
            "614/614 [==============================] - 2s 4ms/step - loss: 0.7263 - accuracy: 0.6336 - val_loss: 0.6577 - val_accuracy: 0.6429\n",
            "Epoch 6/500\n",
            "614/614 [==============================] - 2s 3ms/step - loss: 0.6887 - accuracy: 0.6433 - val_loss: 0.6547 - val_accuracy: 0.6429\n",
            "Epoch 7/500\n",
            "614/614 [==============================] - 2s 3ms/step - loss: 0.6645 - accuracy: 0.6564 - val_loss: 0.6528 - val_accuracy: 0.6429\n",
            "Epoch 8/500\n",
            "614/614 [==============================] - 2s 3ms/step - loss: 0.6667 - accuracy: 0.6466 - val_loss: 0.6520 - val_accuracy: 0.6429\n",
            "Epoch 9/500\n",
            "614/614 [==============================] - 2s 3ms/step - loss: 0.6717 - accuracy: 0.6450 - val_loss: 0.6508 - val_accuracy: 0.6429\n",
            "Epoch 10/500\n",
            "614/614 [==============================] - 2s 4ms/step - loss: 0.6509 - accuracy: 0.6645 - val_loss: 0.6516 - val_accuracy: 0.6429\n",
            "Epoch 11/500\n",
            "614/614 [==============================] - 3s 5ms/step - loss: 0.6461 - accuracy: 0.6629 - val_loss: 0.6515 - val_accuracy: 0.6429\n",
            "Epoch 12/500\n",
            "614/614 [==============================] - 2s 3ms/step - loss: 0.6448 - accuracy: 0.6564 - val_loss: 0.6497 - val_accuracy: 0.6429\n",
            "Epoch 13/500\n",
            "614/614 [==============================] - 2s 3ms/step - loss: 0.6547 - accuracy: 0.6433 - val_loss: 0.6515 - val_accuracy: 0.6429\n",
            "Epoch 14/500\n",
            "614/614 [==============================] - 2s 3ms/step - loss: 0.6578 - accuracy: 0.6482 - val_loss: 0.6508 - val_accuracy: 0.6429\n",
            "Epoch 15/500\n",
            "614/614 [==============================] - 2s 3ms/step - loss: 0.6507 - accuracy: 0.6547 - val_loss: 0.6468 - val_accuracy: 0.6429\n",
            "Epoch 16/500\n",
            "614/614 [==============================] - 2s 3ms/step - loss: 0.6357 - accuracy: 0.6612 - val_loss: 0.6419 - val_accuracy: 0.6623\n",
            "Epoch 17/500\n",
            "614/614 [==============================] - 3s 5ms/step - loss: 0.6495 - accuracy: 0.6596 - val_loss: 0.6490 - val_accuracy: 0.6429\n",
            "Epoch 18/500\n",
            "614/614 [==============================] - 2s 3ms/step - loss: 0.6354 - accuracy: 0.6694 - val_loss: 0.6518 - val_accuracy: 0.6429\n",
            "Epoch 19/500\n",
            "614/614 [==============================] - 2s 3ms/step - loss: 0.6389 - accuracy: 0.6547 - val_loss: 0.6517 - val_accuracy: 0.6429\n",
            "Epoch 20/500\n",
            "614/614 [==============================] - 2s 3ms/step - loss: 0.6366 - accuracy: 0.6612 - val_loss: 0.6453 - val_accuracy: 0.6429\n",
            "Epoch 21/500\n",
            "614/614 [==============================] - 2s 3ms/step - loss: 0.6394 - accuracy: 0.6596 - val_loss: 0.6478 - val_accuracy: 0.6429\n",
            "Epoch 22/500\n",
            "614/614 [==============================] - 3s 5ms/step - loss: 0.6605 - accuracy: 0.6580 - val_loss: 0.6444 - val_accuracy: 0.6494\n",
            "Epoch 23/500\n",
            "614/614 [==============================] - 3s 5ms/step - loss: 0.6387 - accuracy: 0.6710 - val_loss: 0.6505 - val_accuracy: 0.6429\n",
            "Epoch 24/500\n",
            "614/614 [==============================] - 3s 4ms/step - loss: 0.6392 - accuracy: 0.6596 - val_loss: 0.6506 - val_accuracy: 0.6429\n",
            "Epoch 25/500\n",
            "614/614 [==============================] - 2s 3ms/step - loss: 0.6349 - accuracy: 0.6629 - val_loss: 0.6373 - val_accuracy: 0.6558\n",
            "Epoch 26/500\n",
            "614/614 [==============================] - 2s 3ms/step - loss: 0.6433 - accuracy: 0.6515 - val_loss: 0.6441 - val_accuracy: 0.6429\n",
            "Epoch 27/500\n",
            "614/614 [==============================] - 2s 3ms/step - loss: 0.6433 - accuracy: 0.6531 - val_loss: 0.6404 - val_accuracy: 0.6429\n",
            "Epoch 28/500\n",
            "614/614 [==============================] - 2s 3ms/step - loss: 0.6402 - accuracy: 0.6775 - val_loss: 0.6413 - val_accuracy: 0.6429\n",
            "Epoch 29/500\n",
            "614/614 [==============================] - 3s 4ms/step - loss: 0.6499 - accuracy: 0.6661 - val_loss: 0.6352 - val_accuracy: 0.6494\n",
            "Epoch 30/500\n",
            "614/614 [==============================] - 3s 5ms/step - loss: 0.6211 - accuracy: 0.6840 - val_loss: 0.6333 - val_accuracy: 0.6494\n",
            "Epoch 31/500\n",
            "614/614 [==============================] - 2s 3ms/step - loss: 0.6188 - accuracy: 0.6661 - val_loss: 0.6361 - val_accuracy: 0.6558\n",
            "Epoch 32/500\n",
            "614/614 [==============================] - 2s 3ms/step - loss: 0.6191 - accuracy: 0.6889 - val_loss: 0.6348 - val_accuracy: 0.6623\n",
            "Epoch 33/500\n",
            "614/614 [==============================] - 2s 3ms/step - loss: 0.6244 - accuracy: 0.6792 - val_loss: 0.6272 - val_accuracy: 0.6558\n",
            "Epoch 34/500\n",
            "614/614 [==============================] - 2s 3ms/step - loss: 0.6242 - accuracy: 0.6743 - val_loss: 0.6400 - val_accuracy: 0.6429\n",
            "Epoch 35/500\n",
            "614/614 [==============================] - 2s 3ms/step - loss: 0.6136 - accuracy: 0.6710 - val_loss: 0.6343 - val_accuracy: 0.6364\n",
            "Epoch 36/500\n",
            "614/614 [==============================] - 3s 4ms/step - loss: 0.6184 - accuracy: 0.6808 - val_loss: 0.6348 - val_accuracy: 0.6494\n",
            "Epoch 37/500\n",
            "614/614 [==============================] - 2s 3ms/step - loss: 0.6102 - accuracy: 0.6759 - val_loss: 0.6335 - val_accuracy: 0.6558\n",
            "Epoch 38/500\n",
            "614/614 [==============================] - 2s 3ms/step - loss: 0.6119 - accuracy: 0.6743 - val_loss: 0.6298 - val_accuracy: 0.6558\n",
            "Epoch 39/500\n",
            "614/614 [==============================] - 2s 3ms/step - loss: 0.6075 - accuracy: 0.6857 - val_loss: 0.6343 - val_accuracy: 0.6558\n",
            "Epoch 40/500\n",
            "614/614 [==============================] - 2s 3ms/step - loss: 0.6236 - accuracy: 0.6743 - val_loss: 0.6265 - val_accuracy: 0.6623\n",
            "Epoch 41/500\n",
            "614/614 [==============================] - 2s 3ms/step - loss: 0.6195 - accuracy: 0.6840 - val_loss: 0.6381 - val_accuracy: 0.6494\n",
            "Epoch 42/500\n",
            "614/614 [==============================] - 3s 4ms/step - loss: 0.6064 - accuracy: 0.6987 - val_loss: 0.6379 - val_accuracy: 0.6494\n",
            "Epoch 43/500\n",
            "614/614 [==============================] - 3s 4ms/step - loss: 0.6236 - accuracy: 0.6743 - val_loss: 0.6399 - val_accuracy: 0.6429\n",
            "Epoch 43: early stopping\n"
          ]
        }
      ]
    },
    {
      "cell_type": "code",
      "source": [
        "plt.plot(history.history[\"loss\"])\n",
        "plt.plot(history.history[\"val_loss\"])"
      ],
      "metadata": {
        "colab": {
          "base_uri": "https://localhost:8080/",
          "height": 447
        },
        "id": "ehQCyFZfqiPA",
        "outputId": "281bdf34-d6a1-4260-e8f2-19d12a70e765"
      },
      "execution_count": 20,
      "outputs": [
        {
          "output_type": "execute_result",
          "data": {
            "text/plain": [
              "[<matplotlib.lines.Line2D at 0x7c3b4c31d090>]"
            ]
          },
          "metadata": {},
          "execution_count": 20
        },
        {
          "output_type": "display_data",
          "data": {
            "text/plain": [
              "<Figure size 640x480 with 1 Axes>"
            ],
            "image/png": "[encoded data removed]"
          },
          "metadata": {}
        }
      ]
    },
    {
      "cell_type": "code",
      "source": [
        "plt.plot(history.history[\"accuracy\"])\n",
        "plt.plot(history.history[\"val_accuracy\"])"
      ],
      "metadata": {
        "colab": {
          "base_uri": "https://localhost:8080/",
          "height": 447
        },
        "id": "8jeubBWWqg79",
        "outputId": "73fef255-9b52-459b-a32f-63ece0aecbee"
      },
      "execution_count": 21,
      "outputs": [
        {
          "output_type": "execute_result",
          "data": {
            "text/plain": [
              "[<matplotlib.lines.Line2D at 0x7c3b4c374580>]"
            ]
          },
          "metadata": {},
          "execution_count": 21
        },
        {
          "output_type": "display_data",
          "data": {
            "text/plain": [
              "<Figure size 640x480 with 1 Axes>"
            ],
            "image/png": "[encoded data removed]"
          },
          "metadata": {}
        }
      ]
    },
    {
      "cell_type": "code",
      "source": [],
      "metadata": {
        "id": "C_XATfpQo83C"
      },
      "execution_count": 21,
      "outputs": []
    }
  ]
}